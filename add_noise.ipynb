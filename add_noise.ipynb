{
 "cells": [
  {
   "cell_type": "code",
   "execution_count": 1,
   "id": "2201b260-5c22-447d-a7c5-62e36d240915",
   "metadata": {},
   "outputs": [],
   "source": [
    "import librosa\n",
    "from librosa import display\n",
    "import numpy as np\n",
    "import matplotlib.pyplot as plt\n",
    "import IPython.display as ipd\n",
    "import os\n",
    "import math\n",
    "import gdown\n",
    "import soundfile as sf\n",
    "import glob\n",
    "from IPython.display import Image"
   ]
  },
  {
   "cell_type": "code",
   "execution_count": 3,
   "id": "e4946561-5dfc-4bb8-afee-11f43f7b1b34",
   "metadata": {},
   "outputs": [],
   "source": [
    "def normalisation(x, y):\n",
    "    # Find RMSx (i.e. the target RMS)\n",
    "    rms_x = np.sqrt(np.mean(x**2))\n",
    "    # Normalize audio\n",
    "    #  Find scaling factor gamma\n",
    "    N = x.shape[0]\n",
    "    gamma = np.sqrt((N*rms_x**2)/(np.sum(y**2)))\n",
    "    # print(f'Scaling factor :{gamma:.4f}')\n",
    "    y_norm = gamma * y\n",
    "    return y_norm"
   ]
  },
  {
   "cell_type": "code",
   "execution_count": 1,
   "id": "dda4756f-a6b5-4193-89e3-9be2c7d3849f",
   "metadata": {},
   "outputs": [],
   "source": [
    "# Note: Speech and background signals must have the same length in order to be summed together. This is never the case.\n",
    "# If the background signal is shorter, we repeat it until reaching the length of the speech signal.\n",
    "# If the speech signal is shorter, we just truncate the background signal to the length of the speech signal.\n",
    "\n",
    "# ***********************************************************************************************\n",
    "# 1. Add noise to a clean speech signal using SNR of 2 dB\n",
    "def add_noise(clean_speech_filename, x, noise_filename, snr_db, sampling_rate, output_dir, clipTime):\n",
    "      s, _ = librosa.load(noise_filename, sr=sampling_rate, mono=True)\n",
    "      x = x[sampling_rate:sampling_rate*clipTime]\n",
    "      # First let's match the length of the two signals\n",
    "      x_len = x.shape[0]\n",
    "      s_len = s.shape[0]\n",
    "    \n",
    "      if x_len > s_len:\n",
    "        # Calculate how many times we need to repeat the signal and round up to the nearest integer\n",
    "        reps = math.ceil(x_len/s_len)\n",
    "    \n",
    "        # Use the function np.tile to repeat an array\n",
    "        s = np.tile(s, reps)\n",
    "    \n",
    "      # Truncate the background signal\n",
    "      s = s[:x_len]\n",
    "    \n",
    "      # Check if the lengths are the same\n",
    "      assert x_len == s.shape[0]\n",
    "    \n",
    "      # Convert SNRdb to linear\n",
    "      snr = 10**(snr_db/10)\n",
    "    \n",
    "      # Estimate noise and signal power\n",
    "      sp = np.sqrt(np.mean(s**2))\n",
    "    \n",
    "      xp = np.sqrt(np.mean(x**2))\n",
    "    \n",
    "      # Calculate desired noise power based on the SNR value\n",
    "      # P^ noise = P singal / SNR\n",
    "      sp_target = xp/snr\n",
    "    \n",
    "      # Scale factor noise signal\n",
    "      # α = P^ noise / P noise\n",
    "      alpha = sp_target/sp\n",
    "      # print(f'alpha={alpha}')\n",
    "    \n",
    "      # Sum speech and background noise\n",
    "      # y[n]=x[n]+α⋅s[n]\n",
    "      y = x + alpha*s\n",
    "      y_norm = normalisation(x, y)\n",
    "\n",
    "      # Ensure output directory exists\n",
    "      if not os.path.exists(output_dir):\n",
    "            os.makedirs(output_dir)\n",
    "    \n",
    "      # Determine the output filename by adding '_Rev' before the file extension\n",
    "      base, ext = os.path.splitext(os.path.basename(clean_speech_filename))\n",
    "      output_filename = f\"{base}_Noised{ext}\"\n",
    "      full_output_path = os.path.join(output_dir, output_filename)\n",
    "      # Saving the reverberant audio to a .wav file\n",
    "      sf.write(full_output_path, y_norm, samplerate=sampling_rate)\n",
    "      return y_norm\n",
    "\n",
    "# Load noise\n",
    "# noise_filename = './Noise/boeing.wav'\n",
    "# clean_speech_filename = './C_01_CHOP_FA.wav'\n",
    "# x, sampling_rate = librosa.load(clean_speech_filename, mono=True, sr=8000)\n",
    "\n",
    "# Mix speech and noise at 5 dB\n",
    "# snr_db = 2\n",
    "# clipTime = 5  # Duration in seconds to clip and process\n",
    "# output_dir = './'\n",
    "# y = add_noise(clean_speech_filename, x, noise_filename, snr_db, sampling_rate, output_dir, clipTime)\n",
    "# sf.write(full_output_path, y, samplerate=sampling_rate)\n",
    "\n",
    "\n",
    "# Player\n",
    "# ipd.display(ipd.Audio(x, rate=sampling_rate, normalize=False))\n",
    "# ipd.display(ipd.Audio(y, rate=sampling_rate, normalize=False))"
   ]
  },
  {
   "cell_type": "code",
   "execution_count": 45,
   "id": "8a2ddec0-71ef-41de-b109-16ceb2db2d74",
   "metadata": {},
   "outputs": [],
   "source": [
    "def process_folder(folder_path, noise_filename, clipTime, output_dir):\n",
    "    # Search for all .wav files in the folder\n",
    "    wav_files = glob.glob(os.path.join(folder_path, '*.wav'))\n",
    "    snr_db = 2\n",
    "    for wav_file in wav_files:\n",
    "        x, sampling_rate = librosa.load(wav_file, mono=True, sr=8000)\n",
    "        # print(f\"Processing {wav_file}...\")\n",
    "        add_noise(wav_file, x, noise_filename, snr_db, sampling_rate, output_dir, clipTime)\n",
    "# clip_time = 4  # Duration in seconds to clip and process\n",
    "# process_folder(input_folder, noise_file, clip_time, output_folder)"
   ]
  },
  {
   "cell_type": "code",
   "execution_count": null,
   "id": "11d12105-5b83-401f-b6de-3165c29152c3",
   "metadata": {},
   "outputs": [],
   "source": [
    "# ================================ echo ================================\n",
    "\n",
    "input_folder = './TCD-VOIP/Test Set/echo/ref'  # Folder with original .wav files\n",
    "output_folder = './Noised_Audio/echo_sports'  # Folder to save processed .wav files\n",
    "noise_file = './Noise/sports.wav'  # Room Impulse Response file\n",
    "clip_time = 4  # Duration in seconds to clip and process\n",
    "process_folder(input_folder, noise_file, clip_time, output_folder)"
   ]
  },
  {
   "cell_type": "code",
   "execution_count": null,
   "id": "3f2f299c-72c8-4da2-b821-999b0658bc67",
   "metadata": {},
   "outputs": [],
   "source": [
    "input_folder = './TCD-VOIP/Test Set/echo/ref'  # Folder with original .wav files\n",
    "output_folder = './Noised_Audio/echo_boeing'  # Folder to save processed .wav files\n",
    "noise_file = './Noise/boeing.wav'  # Room Impulse Response file\n",
    "clip_time = 4  # Duration in seconds to clip and process\n",
    "process_folder(input_folder, noise_file, clip_time, output_folder)"
   ]
  },
  {
   "cell_type": "code",
   "execution_count": null,
   "id": "48f86576-26a9-42b5-ae79-d09211f93dfa",
   "metadata": {},
   "outputs": [],
   "source": [
    "input_folder = './TCD-VOIP/Test Set/echo/ref'  # Folder with original .wav files\n",
    "output_folder = './Noised_Audio/echo_crowded'  # Folder to save processed .wav files\n",
    "noise_file = './Noise/crowded.wav'  # Room Impulse Response file\n",
    "clip_time = 4  # Duration in seconds to clip and process\n",
    "process_folder(input_folder, noise_file, clip_time, output_folder)"
   ]
  },
  {
   "cell_type": "code",
   "execution_count": null,
   "id": "ab606b34-aeb2-4d08-a926-4a42c69a82a0",
   "metadata": {},
   "outputs": [],
   "source": [
    "input_folder = './TCD-VOIP/Test Set/echo/ref'  # Folder with original .wav files\n",
    "output_folder = './Noised_Audio/echo_machines'  # Folder to save processed .wav files\n",
    "noise_file = './Noise/machines.wav'  # Room Impulse Response file\n",
    "clip_time = 4  # Duration in seconds to clip and process\n",
    "process_folder(input_folder, noise_file, clip_time, output_folder)"
   ]
  },
  {
   "cell_type": "code",
   "execution_count": null,
   "id": "0e4be7f3-c9da-49bb-b7e4-efb063ee8d7e",
   "metadata": {},
   "outputs": [],
   "source": [
    "# ================================ compspkr ================================\n",
    "\n",
    "input_folder = './TCD-VOIP/Test Set/compspkr/ref'  # Folder with original .wav files\n",
    "output_folder = './Noised_Audio/compspkr_sports'  # Folder to save processed .wav files\n",
    "noise_file = './Noise/sports.wav'  # Room Impulse Response file\n",
    "clip_time = 4  # Duration in seconds to clip and process\n",
    "process_folder(input_folder, noise_file, clip_time, output_folder)"
   ]
  },
  {
   "cell_type": "code",
   "execution_count": null,
   "id": "d8763ad0-7bfd-4908-8959-51aa0f3fa883",
   "metadata": {},
   "outputs": [],
   "source": [
    "input_folder = './TCD-VOIP/Test Set/compspkr/ref'  # Folder with original .wav files\n",
    "output_folder = './Noised_Audio/compspkr_boeing'  # Folder to save processed .wav files\n",
    "noise_file = './Noise/boeing.wav'  # Room Impulse Response file\n",
    "clip_time = 4  # Duration in seconds to clip and process\n",
    "process_folder(input_folder, noise_file, clip_time, output_folder)"
   ]
  },
  {
   "cell_type": "code",
   "execution_count": null,
   "id": "9117f6d8-3ce2-4302-82e3-5ef0485c36ee",
   "metadata": {},
   "outputs": [],
   "source": [
    "input_folder = './TCD-VOIP/Test Set/compspkr/ref'  # Folder with original .wav files\n",
    "output_folder = './Noised_Audio/compspkr_crowded'  # Folder to save processed .wav files\n",
    "noise_file = './Noise/crowded.wav'  # Room Impulse Response file\n",
    "clip_time = 4  # Duration in seconds to clip and process\n",
    "process_folder(input_folder, noise_file, clip_time, output_folder)"
   ]
  },
  {
   "cell_type": "code",
   "execution_count": null,
   "id": "62285536-a91a-4471-b311-b36666a4f231",
   "metadata": {},
   "outputs": [],
   "source": [
    "input_folder = './TCD-VOIP/Test Set/compspkr/ref'  # Folder with original .wav files\n",
    "output_folder = './Noised_Audio/compspkr_machines'  # Folder to save processed .wav files\n",
    "noise_file = './Noise/machines.wav'  # Room Impulse Response file\n",
    "clip_time = 4  # Duration in seconds to clip and process\n",
    "process_folder(input_folder, noise_file, clip_time, output_folder)"
   ]
  },
  {
   "cell_type": "code",
   "execution_count": null,
   "id": "776f50ec-80cb-442b-81e9-ffebf27f096d",
   "metadata": {},
   "outputs": [],
   "source": [
    "# ================================ clip ================================\n",
    "\n",
    "input_folder = './TCD-VOIP/Test Set/clip/ref'  # Folder with original .wav files\n",
    "output_folder = './Noised_Audio/clip_sports'  # Folder to save processed .wav files\n",
    "noise_file = './Noise/sports.wav'  # Room Impulse Response file\n",
    "clip_time = 4  # Duration in seconds to clip and process\n",
    "process_folder(input_folder, noise_file, clip_time, output_folder)"
   ]
  },
  {
   "cell_type": "code",
   "execution_count": null,
   "id": "3c664341-d63d-4b78-b69d-7449589cb0ca",
   "metadata": {},
   "outputs": [],
   "source": [
    "input_folder = './TCD-VOIP/Test Set/clip/ref'  # Folder with original .wav files\n",
    "output_folder = './Noised_Audio/clip_boeing'  # Folder to save processed .wav files\n",
    "noise_file = './Noise/boeing.wav'  # Room Impulse Response file\n",
    "clip_time = 4  # Duration in seconds to clip and process\n",
    "process_folder(input_folder, noise_file, clip_time, output_folder)"
   ]
  },
  {
   "cell_type": "code",
   "execution_count": null,
   "id": "baea0306-6fe9-44e1-90ad-29646dffe6a6",
   "metadata": {},
   "outputs": [],
   "source": [
    "input_folder = './TCD-VOIP/Test Set/clip/ref'  # Folder with original .wav files\n",
    "output_folder = './Noised_Audio/clip_crowded'  # Folder to save processed .wav files\n",
    "noise_file = './Noise/crowded.wav'  # Room Impulse Response file\n",
    "clip_time = 4  # Duration in seconds to clip and process\n",
    "process_folder(input_folder, noise_file, clip_time, output_folder)"
   ]
  },
  {
   "cell_type": "code",
   "execution_count": null,
   "id": "4ad0d22b-0918-4636-8d43-d745a1680ce3",
   "metadata": {},
   "outputs": [],
   "source": [
    "input_folder = './TCD-VOIP/Test Set/clip/ref'  # Folder with original .wav files\n",
    "output_folder = './Noised_Audio/clip_machines'  # Folder to save processed .wav files\n",
    "noise_file = './Noise/machines.wav'  # Room Impulse Response file\n",
    "clip_time = 4  # Duration in seconds to clip and process\n",
    "process_folder(input_folder, noise_file, clip_time, output_folder)"
   ]
  },
  {
   "cell_type": "code",
   "execution_count": null,
   "id": "d48d99e5-3e4a-4436-a846-77fc52d7eb48",
   "metadata": {},
   "outputs": [],
   "source": [
    "# ================================ noise ================================\n",
    "\n",
    "input_folder = './TCD-VOIP/Test Set/noise/ref'  # Folder with original .wav files\n",
    "output_folder = './Noised_Audio/noise_sports'  # Folder to save processed .wav files\n",
    "noise_file = './Noise/sports.wav'  # Room Impulse Response file\n",
    "clip_time = 4  # Duration in seconds to clip and process\n",
    "process_folder(input_folder, noise_file, clip_time, output_folder)"
   ]
  },
  {
   "cell_type": "code",
   "execution_count": null,
   "id": "06dffe31-d990-466f-adda-f5987a977001",
   "metadata": {},
   "outputs": [],
   "source": [
    "input_folder = './TCD-VOIP/Test Set/noise/ref'  # Folder with original .wav files\n",
    "output_folder = './Noised_Audio/noise_boeing'  # Folder to save processed .wav files\n",
    "noise_file = './Noise/boeing.wav'  # Room Impulse Response file\n",
    "clip_time = 4  # Duration in seconds to clip and process\n",
    "process_folder(input_folder, noise_file, clip_time, output_folder)"
   ]
  },
  {
   "cell_type": "code",
   "execution_count": null,
   "id": "1519bd82-af24-46f4-aca6-387ce13adc81",
   "metadata": {},
   "outputs": [],
   "source": [
    "input_folder = './TCD-VOIP/Test Set/noise/ref'  # Folder with original .wav files\n",
    "output_folder = './Noised_Audio/noise_crowded'  # Folder to save processed .wav files\n",
    "noise_file = './Noise/crowded.wav'  # Room Impulse Response file\n",
    "clip_time = 4  # Duration in seconds to clip and process\n",
    "process_folder(input_folder, noise_file, clip_time, output_folder)"
   ]
  },
  {
   "cell_type": "code",
   "execution_count": null,
   "id": "98d7aa6f-7a93-491e-9be3-242447a60b97",
   "metadata": {},
   "outputs": [],
   "source": [
    "input_folder = './TCD-VOIP/Test Set/noise/ref'  # Folder with original .wav files\n",
    "output_folder = './Noised_Audio/noise_machines'  # Folder to save processed .wav files\n",
    "noise_file = './Noise/machines.wav'  # Room Impulse Response file\n",
    "clip_time = 4  # Duration in seconds to clip and process\n",
    "process_folder(input_folder, noise_file, clip_time, output_folder)"
   ]
  },
  {
   "cell_type": "code",
   "execution_count": null,
   "id": "530050d0-3839-46d6-9383-1bc459fb7fe6",
   "metadata": {},
   "outputs": [],
   "source": []
  }
 ],
 "metadata": {
  "kernelspec": {
   "display_name": "Python 3 (ipykernel)",
   "language": "python",
   "name": "python3"
  },
  "language_info": {
   "codemirror_mode": {
    "name": "ipython",
    "version": 3
   },
   "file_extension": ".py",
   "mimetype": "text/x-python",
   "name": "python",
   "nbconvert_exporter": "python",
   "pygments_lexer": "ipython3",
   "version": "3.11.8"
  }
 },
 "nbformat": 4,
 "nbformat_minor": 5
}
